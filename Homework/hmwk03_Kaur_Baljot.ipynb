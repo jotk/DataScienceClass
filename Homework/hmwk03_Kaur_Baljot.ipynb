{
 "cells": [
  {
   "cell_type": "markdown",
   "metadata": {},
   "source": [
    "<a/ id='top'></a>\n",
    "# Homework 3: Random Variables and Their Distributions\n",
    "***\n",
    "\n",
    "**Name**: Baljot Kaur Kang\n",
    "\n",
    "***\n",
    "\n",
    "This assignment is due on Canvas by **5pm on Thursday June 27**. Your solutions to theoretical questions should be done in Markdown/MathJax directly below the associated question.  Your solutions to computational questions should include any specified Python code and results as well as written commentary on your conclusions.  Remember that you are encouraged to discuss the problems with your instructors and classmates, but **you must write all code and solutions on your own**. \n",
    "\n",
    "**NOTES**: \n",
    "\n",
    "- Do **NOT** load or use any Python packages that are not available in Anaconda 3.6. \n",
    "- Because you can technically evaluate notebook cells in a non-linear order, it's a good idea to do Cell $\\rightarrow$ Run All as a check before submitting your solutions.  That way if we need to run your code you will know that it will work as expected. \n",
    "- Submit only this Jupyter notebook to Moodle.  Do not compress it using tar, rar, zip, etc. \n",
    "- This should go without saying, but... For any question that asks you to calculate something, you **must show all work to receive credit**. Sparse or nonexistent work will receive sparse or nonexistent credit.\n",
    "\n",
    "---\n",
    "**Shortcuts:**  [Problem 1](#p1) | [Problem 2](#p2) | [Problem 3](#p3) | [Problem 4](#p4) | [Problem 5](#p5)\n",
    "\n",
    "---"
   ]
  },
  {
   "cell_type": "code",
   "execution_count": 138,
   "metadata": {
    "scrolled": true
   },
   "outputs": [],
   "source": [
    "import pandas as pd\n",
    "import numpy as np\n",
    "import scipy.stats as stats\n",
    "import math\n",
    "from scipy.special import binom\n",
    "import matplotlib.pylab as plt\n",
    "%matplotlib inline"
   ]
  },
  {
   "cell_type": "markdown",
   "metadata": {},
   "source": [
    "<br>\n",
    "\n",
    "---\n",
    "<a/ id='p1'></a>\n",
    "[Back to top](#top)\n",
    "### [20 points] Problem 1\n",
    "\n",
    "Suppose you are modeling the probability of observing flood levels of various heights when there is a storm in a particular coastal city.  Let $X$ be a random variable representing the observed flood height (in feet), which must be nonnegative. There are many different choices for probability density function (pdf) for $X$.  You decide to use the following pdf for $X$:\n",
    "\n",
    "$$\n",
    "f(x) = \\begin{cases}\n",
    "         c \\ x \\ e^{\\left(-\\frac{x^2}{10}\\right)} & 0 \\leq x < \\infty \\\\\n",
    "         0                           & \\text{otherwise}\n",
    "       \\end{cases}\n",
    "$$\n",
    "where $c$ is some normalizing constant.\n",
    "\n",
    "**Part A**: Determine the value of $c$ such that $f(x)$ is a valid density function. "
   ]
  },
  {
   "cell_type": "markdown",
   "metadata": {},
   "source": [
    "To be valid the integral must be 1. Since x must be positive, we must take the itegral from 0 to $\\inf$ of f(x), equate it to 1, and solve for c. First to solve for defenite:\n",
    "\n",
    "$$\n",
    "F(x) = \\int \\begin{cases}\n",
    "         c \\ x \\ e^{\\left(-\\frac{x^2}{10}\\right)} & 0 \\leq x < \\infty \\\\\n",
    "         0                           & \\text{otherwise}\n",
    "       \\end{cases}\n",
    "$$\n",
    "After Evaluating Integral with the Chain Rule\n",
    "$$\n",
    "F(x) = \\begin{cases}\n",
    "         -5c \\ e^{\\left(-\\frac{x^2}{10}\\right)} & 0 \\leq x < \\infty \\\\\n",
    "         0                           & \\text{otherwise}\n",
    "       \\end{cases}\n",
    "$$\n",
    "\n",
    "Itegral from 0 to $\\inf$:\n",
    "\n",
    "$$\n",
    "     = -5c \\ e^{\\left(-\\frac{x^2}{10}\\right)}\\rvert_{0}^{\\infty}\n",
    "$$\n",
    "$$\n",
    "     =  \\displaystyle \\lim_{x\\rightarrow \\infty} -5c \\ e^{\\left(-\\frac{x^2}{10}\\right)} + 5c \\ e^{\\left(-\\frac{0^2}{10}\\right)} \n",
    "$$\n",
    "$$\n",
    "    = \\displaystyle \\lim_{x\\rightarrow \\infty} \\frac{-5c} {e^{\\left(\\frac{x^2}{10}\\right)}} + 5c * 1\n",
    "$$\n",
    "$$\n",
    "    = \\displaystyle \\lim_{x\\rightarrow \\infty} \\frac{constant}{\\infty} + 5c\n",
    "$$\n",
    "$$\n",
    "    = 0 + 5c = 5c\n",
    "$$\n",
    "This must be equal to 1, thus \n",
    "c must be 1/5"
   ]
  },
  {
   "cell_type": "markdown",
   "metadata": {},
   "source": [
    "**Part B**: Compute the cumulative density (cdf) function $F(x)$ for $X$.  Then, conduct two sanity checks: First, what should $F(0)$ equal?  Second, what should be the limit of $F(x)$ as $x \\rightarrow \\infty$?  Be sure to **justify** these answers. Verify that $F(0)$ and $\\displaystyle \\lim_{x\\rightarrow \\infty} F(x)$ satisfy your hypotheses using cdf you derived."
   ]
  },
  {
   "cell_type": "markdown",
   "metadata": {},
   "source": [
    "$$ CDF = \\int f(x)\\ = F(x) $$\n",
    "$$\n",
    "F(x) = \\int \\begin{cases}\n",
    "         \\frac{1}{5} \\ x \\ e^{\\left(-\\frac{x^2}{10}\\right)} & 0 \\leq x < \\infty \\\\\n",
    "         0                           & \\text{otherwise}\n",
    "       \\end{cases}\n",
    "$$\n",
    "After Evaluating Integral with the Chain Rule\n",
    "$$\n",
    "F(x) = \\begin{cases}\n",
    "         - \\ e^{\\left(-\\frac{x^2}{10}\\right)} & 0 \\leq x < \\infty \\\\\n",
    "         0                           & \\text{otherwise}\n",
    "       \\end{cases}\n",
    "$$\n",
    "Evaluating this integral for 0 to x will give us the CDF\n",
    "$$\n",
    "    = -e^{\\left(-\\frac{x^2}{10}\\right)}\\rvert_{0}^{x}\n",
    "$$\n",
    "$$\n",
    "    = -e^{\\left(-\\frac{x^2}{10}\\right)}-(-e^{\\left(-\\frac{0}{10}\\right)}) \n",
    "$$\n",
    "$$\n",
    "    = -e^{\\left(-\\frac{x^2}{10}\\right)} + 1\n",
    "$$\n",
    "\n",
    "Sanity Checks:\n",
    "1. F(0) is 0\n",
    "2. F($\\infty$) is 1\n",
    "\n",
    "-1.\n",
    "$$\n",
    "    = -e^{\\left(-\\frac{0}{10}\\right)} + 1\n",
    "$$\n",
    "$$\n",
    "    = 1\n",
    "$$\n",
    "\n",
    "-2. \n",
    "$$\n",
    "    = \\displaystyle \\lim_{x\\rightarrow \\infty} -e^{\\left(-\\frac{x^2}{10}\\right)} + 1\n",
    "$$\n",
    "$$\n",
    "    = \\displaystyle \\lim_{x\\rightarrow \\infty} -e^{\\left(-\\frac{x^2}{10}\\right)} + 1\n",
    "$$\n",
    "$$\n",
    "    = \\displaystyle \\lim_{x\\rightarrow \\infty} \\frac{1}{-e^{\\left(\\frac{x^2}{10}\\right)}} + 1\n",
    "$$\n",
    "$$\n",
    "    = \\displaystyle \\lim_{x\\rightarrow \\infty} 0 + 1 = 1\n",
    "$$\n",
    "\n",
    "\n",
    "These values are in allignment with the defenition of CDF. CDF is accumulative and should be 1 as it approaches $\\infty$ and be 0 at 0. "
   ]
  },
  {
   "cell_type": "markdown",
   "metadata": {},
   "source": [
    "**Part C:**  Use the cdf you derived in **Part B** to calculate the median, $\\tilde{x}$, of the probability density for $X$."
   ]
  },
  {
   "cell_type": "markdown",
   "metadata": {},
   "source": [
    "To find this, we would need to find an x value that makes the equation equal to \n",
    "$$ -e^{\\left(-\\frac{x^2}{10}\\right)} + 1 = \\frac{1}{2} $$\n",
    "$$ -e^{\\left(-\\frac{x^2}{10}\\right)} = -\\frac{1}{2} $$\n",
    "$$ -e^{\\left(-\\frac{x^2}{10}\\right)} = -\\frac{1}{2} $$\n",
    "$$ e^{\\left(-\\frac{x^2}{10}\\right)} = \\frac{1}{2} $$\n",
    "$$ {\\left(-\\frac{x^2}{10}\\right)} = ln(\\frac{1}{2}) $$\n",
    "$$ x = \\sqrt{ln(\\frac{1}{2})*-10} $$\n",
    "$$ x = 2.633 $$"
   ]
  },
  {
   "cell_type": "markdown",
   "metadata": {},
   "source": [
    "**Part D**: It is a well-known fact that if there is a storm in your coastal city, if the flood level exceeds 6 feet, then the town will become inundated with octopuses in an event known localy as **Octogeddon**. Use the cdf you computed in **Part B** to find the probability that a given storm is an Octogeddon. "
   ]
  },
  {
   "cell_type": "markdown",
   "metadata": {
    "collapsed": true
   },
   "source": [
    "We need to calculate 1 - CDF(6) to find probability of the levels to be higher than 6\n",
    "\n",
    "$$ 1 - (-e^{\\left(-\\frac{6^2}{10}\\right)} + 1)$$\n",
    "$$ = e^{\\left(-\\frac{6^2}{10}\\right)} $$\n",
    "$$ = .0273 $$"
   ]
  },
  {
   "cell_type": "markdown",
   "metadata": {},
   "source": [
    "**Part E:** You have been painstakingly collecting data on storms in your city, and have determined that storms occur at an average rate of 5 per year. To makes things a bit more precise, the pdf from **Part A** really describes the distribution of flood heights *given* that there is a storm, $P(X \\mid \\text{storm})$. You may assume that storms occur as independent events of one another.\n",
    "\n",
    "What is the probability of observing 3 storms in a given year, none of which are Octogeddons?\n",
    "\n",
    "That is, what is $P(3 \\text{ non-Octogeddon storms} \\cap 3 \\text{ storms})$?"
   ]
  },
  {
   "cell_type": "markdown",
   "metadata": {
    "collapsed": true
   },
   "source": [
    "P(O) = prob of octogeddon\n",
    "\n",
    "P(S) = prob of storm\n",
    "\n",
    "P(O|S) = .0273\n",
    "\n",
    "P(notO|S) = .9727\n",
    "\n",
    "P(3notO|3S) = .9727^3 = .9203\n",
    "\n",
    "P(3S) = Poiss(3, 5) = .14037\n",
    "\n",
    "$P(3non-Octogeddons|3S) = \\frac{P(3 \\text{non-Octogeddons} \\cap 3 \\text{ storms})}{P(3S)}$ \n",
    "\n",
    "$P(3 \\text{non-Octogeddons} \\cap 3 \\text{ storms}) = P(3non-Octogeddons|3S) * P(3S)$\n",
    "\n",
    "$ = .9203 * .14037 = .129 $"
   ]
  },
  {
   "cell_type": "markdown",
   "metadata": {
    "collapsed": true
   },
   "source": [
    "<br>\n",
    "\n",
    "---\n",
    "<a/ id='p2'></a>\n",
    "[Back to top](#top)\n",
    "### [20 points] Problem 2 - Monte Carlo Estimation of Definite Integrals\n",
    "\n",
    "One really cool application of random variables is using them to approximate integrals/area under a curve.  This method of approximating integrals is used frequently in computational science to approximate really difficult integrals that we never want to do by hand.  In this exercise you'll figure out how we can do this in practice and test your method on a relatively simple integral. "
   ]
  },
  {
   "cell_type": "markdown",
   "metadata": {},
   "source": [
    "**Part A.**  Let $X$ be a random variable representing how delicious a pie you bake is, as measured by the **Deliciousness Index** (DI).  Suppose the probability density function for $X$ is described by the raised cosine probability density function:\n",
    "\n",
    "$$\n",
    "f(x) = \\begin{cases}\n",
    "         \\dfrac{1}{\\pi}\\left(\\cos{(x)} + 1\\right) & 0 \\leq x \\leq \\pi \\\\\n",
    "         0                           & \\text{otherwise}\n",
    "         \\end{cases}\n",
    "$$\n",
    "\n",
    "A Deliciousness Index of $\\pi$ is the most delicious pie you can ever hope to create, and a DI of $0$ is the most disgusting pie you have ever tasted.  \n",
    "\n",
    "Compute **by hand**, the integral of $f(x)$ for $0 \\leq x \\leq \\dfrac{\\pi}{2}$.  Write a sentence or two to interpret your result physically, in the context of this problem set-up."
   ]
  },
  {
   "cell_type": "markdown",
   "metadata": {
    "collapsed": true
   },
   "source": [
    "The integral would equal (𝜋+2)/2𝜋 which approx. equals 0.8 meaning that the probability of finding a pie with the Deliciousness Index being below 𝜋/2 is 0.8.\n",
    "\n",
    "Work:\n",
    "\n",
    "$\\int_0^{\\pi/2} \\dfrac{1}{\\pi}\\left(\\cos{(x)} + 1\\right)$\n",
    "\n",
    "$= \\dfrac{1}{\\pi}\\int_0^{\\pi/2}\\left(\\cos{(x)} + 1\\right) $\n",
    "\n",
    "$ = \\frac{1}{\\pi}\\sin{(x)}|^{\\pi/2}_{0} + \\frac{1}{\\pi}x|^{\\pi/2}_{0}$\n",
    "\n",
    "evaluate and get..\n",
    "\n",
    "$\\frac{1}{\\pi} + \\frac{1}{2} = \\frac{\\pi + 2}{2\\pi}$"
   ]
  },
  {
   "cell_type": "markdown",
   "metadata": {},
   "source": [
    "**Part B.** Suppose we sample a random variable $X$ from $U(0,\\frac{\\pi}{2})$ and another random variable $Y$ from $U(0,1)$ and think of them as $x$- and $y$-coordinates of a point in the box $[0,\\frac{\\pi}{2}] \\times [0,1]$.  If we compute the ratio of points that fall under the curve $f(x)$ to the total points sampled, what does this value estimate? "
   ]
  },
  {
   "cell_type": "markdown",
   "metadata": {
    "collapsed": true
   },
   "source": [
    "#### Answer:\n",
    "The value will be the ratio of the area of the box underneath the 𝑓(𝑥) curve."
   ]
  },
  {
   "cell_type": "markdown",
   "metadata": {},
   "source": [
    "**Part C.** How could we modify the process outlined in **Part B** so that our estimator estimates the value of the desired integral?  If you need inspiration, check out the in-class notebook on Stochastic Simulation (#4), specifically, the exercise where we estimated $\\pi$!"
   ]
  },
  {
   "cell_type": "markdown",
   "metadata": {
    "collapsed": true
   },
   "source": [
    "#### Answer:\n",
    "Using the ratio of the points underneath the curve in the box, \n",
    "multiply that number by the area of the box."
   ]
  },
  {
   "cell_type": "markdown",
   "metadata": {},
   "source": [
    "**Part D.** Complete the function `integrate` below to compute an approximation to the definition integral $\\int_0^{\\text{ub}} f(x)dx$.  Your function should take as arguments:\n",
    "1. `num_samples` -- the number of points to sample,\n",
    "2. `ub` -- a number between $0$ and $\\pi$ that is the upper bound of the integral, and\n",
    "3. `isPlot` -- a Boolean flag for whether or not to display a plot of the results.\n",
    "\n",
    "Your function should return an approximation of the definite integral by sampling $X$ from $U(0,\\text{ub})$ and $Y$ from $U(0,1)$. For each random draw $(X,Y)$, define the random variable $Z$ that represents whether or not the sampled $Y$ value is less than $f(X)$ for the corresponding $X$ value.\n",
    "\n",
    "Your function should perform three tasks: \n",
    "\n",
    "1. return the estimate of the value of the integral,\n",
    "2. return the sample variance of the random variable $Z$ being simulated, using the np.var function, and\n",
    "3. if `isPlot` is True, plot the curve $f(x)$ as well as the location of the points $(X,Y)$, colored according to whether they fall above or below the curve. "
   ]
  },
  {
   "cell_type": "code",
   "execution_count": 139,
   "metadata": {},
   "outputs": [],
   "source": [
    "def f(𝑥):\n",
    "    return (1/np.pi)*(np.cos(x)+1)"
   ]
  },
  {
   "cell_type": "code",
   "execution_count": 140,
   "metadata": {},
   "outputs": [],
   "source": [
    "# GIVEN CODE - Do not change the inputs/outputs or your code will fail unit tests and auto-grading!\n",
    "def integrate(num_samples, ub, isPlot):\n",
    "    counter = 0\n",
    "    under = []\n",
    "    over = []\n",
    "    for blah in range(num_samples):\n",
    "        x = np.random.uniform(low=0, high=ub)\n",
    "        y = np.random.uniform(low=0, high=1)\n",
    "        actualFunc = f(𝑥)\n",
    "        if y<actualFunc:\n",
    "            counter=counter+1\n",
    "            under.append((x,y))\n",
    "        else:\n",
    "            over.append((x,y))\n",
    "    if isPlot:\n",
    "        fig, ax = plt.subplots(figsize=(10,5))\n",
    "        x = np.arange(0,ub,0.05)\n",
    "        ax.plot(x,𝑓(𝑥),color='black',label='pdf')\n",
    "        ax.scatter(*zip(*under),color='pink',label='Under Curve')\n",
    "        ax.scatter(*zip(*over),color='orange',label='Above Curve')\n",
    "        plt.legend()\n",
    "    estimate = (ub * counter)/num_samples\n",
    "    uny =[]\n",
    "    for x in under:\n",
    "        uny.append(x[1])\n",
    "    sample_var = np.var(uny, ddof=1)\n",
    "    \n",
    "    return estimate, sample_var"
   ]
  },
  {
   "cell_type": "code",
   "execution_count": 141,
   "metadata": {},
   "outputs": [
    {
     "data": {
      "text/plain": [
       "(0.9983981453108363, 0.026805916272838366)"
      ]
     },
     "execution_count": 141,
     "metadata": {},
     "output_type": "execute_result"
    },
    {
     "data": {
      "image/png": "[encoded data removed]",
      "text/plain": [
       "<Figure size 720x360 with 1 Axes>"
      ]
     },
     "metadata": {
      "needs_background": "light"
     },
     "output_type": "display_data"
    }
   ],
   "source": [
    "integrate(10000,np.pi,True)"
   ]
  },
  {
   "cell_type": "markdown",
   "metadata": {},
   "source": [
    "**Part E.** Write your own small unit tests!\n",
    "\n",
    "First, what should your `integrate` function output if you plug in `ub=0`? Set that as `int_0_to_0` below.\n",
    "\n",
    "Second, what should your `integrate` function output if you plug in `ub=`$\\pi$? Set that as `int_0_to_pi` below.\n",
    "\n",
    "Then, you can execute the cell below to run two sanity checks. Write out **in math** (like, a definite integral) what each of these two tests is checking and **why** that is a reasonable sanity check.\n",
    "\n",
    "If these two assertions run without fail, then things seem to be working okay. Note that the upper endpoint test is stochastic, so if it fails, try running it a few times. If it fails a lot, then things are probably going wrong."
   ]
  },
  {
   "cell_type": "markdown",
   "metadata": {},
   "source": [
    "#### Answer: \n",
    "The most basic test this function should follow is it should make the interal from 0 to 0 always 0. This makes sense because the area under the curve in a range which is 0, will result in a zero area\n",
    "\n",
    "$\\int_0^{0} f(x) = 0$ \n",
    "\n",
    "The second test is to see that the interal from 0 to pi is going to be zero. This makes sense because the by hand evaluation also results in 1:\n",
    "\n",
    "$\\int_0^{\\pi}\\dfrac{1}{\\pi}\\left(\\cos{(x)} + 1\\right)dx$\n",
    "\n",
    "$= \\dfrac{1}{\\pi}\\int_0^{\\pi}\\left(\\cos{(x)} + 1\\right) $\n",
    "\n",
    "$ = \\frac{1}{\\pi}\\sin{(x)}|^{\\pi}_{0} + \\frac{1}{\\pi}x|^{\\pi}_{0}$\n",
    "\n",
    "$ = 0 - 0 + \\frac{\\pi}{\\pi} - 0 = 1$"
   ]
  },
  {
   "cell_type": "code",
   "execution_count": 142,
   "metadata": {},
   "outputs": [],
   "source": [
    "int_0_to_0  = 0 # fill this in!\n",
    "int_0_to_pi = 1 # this one too!\n",
    "\n",
    "\n",
    "#---------------------------------------\n",
    "# DO NOT EDIT THIS CELL BELOW HERE\n",
    "#---------------------------------------\n",
    "assert integrate(1000, 0, False)[0]==int_0_to_0, \"Error: lower endpoint test failing\"\n",
    "assert math.isclose(integrate(10000, np.pi, False)[0],int_0_to_pi,abs_tol=0.03), \"Error: upper endpoint test failing\""
   ]
  },
  {
   "cell_type": "markdown",
   "metadata": {},
   "source": [
    "<br>\n",
    "\n",
    "---\n",
    "<a/ id='p3'></a>\n",
    "[Back to top](#top)\n",
    "### [20 points] Problem 3\n",
    "\n",
    "You are waiting in line at the grocery store. It is taking _forever_!  There are only two lines open; one is being tended by a cashier named [John Henry](https://en.wikipedia.org/wiki/John_Henry_(folklore)), and the other is tended by a [self check-out machine](https://theconversation.com/the-economics-of-self-service-checkouts-78593). Like all human beings when they arrive at the front of the store to check-out and encounter lines everywhere, you first experience a moment of intense panic. _Which line will be the fastest?_ you wonder, as people shuffle around you.\n",
    "\n",
    "You decide you need to model the arrival of customers at the front of each of the lines.  From your Intro to Data Science class you remember that the distribution of times _between_ independent arrivals is often modeled using an Exponential distribution.  You observe the following:\n",
    "* John's line checks-out an average of 4 customers per ten minutes,\n",
    "* the self check-out machine checks-out an average of 5 customers per ten minutes **if** the machine is working properly, \n",
    "* the self check-out machine checks-out an average of 1 customer per ten minutes if the machine is freezing up, and\n",
    "* in any given moment, the self check-out machine has a probability of 0.1 of freezing up.\n",
    "\n",
    "Answer the following questions about this scenario. **Note** that for **Parts B-D** you should clearly express the computation you're doing with math, but feel free to do any fancy function evaluations with Python. \n",
    "\n",
    "**Part A**:  Assuming the between-customer times do in fact follow exponential distributions, what distributions do you expect the **number** of customers who pass through each line in a given 10-minute interval to follow?  What are the parameter(s) of each distribution?  Note that you should consider both the case where the self check-out is working properly and when it is broken."
   ]
  },
  {
   "cell_type": "markdown",
   "metadata": {},
   "source": [
    "I would expect them to follow a poisson distribution if we were to study the number of customers in a given time period.\n",
    "Parameters:\n",
    "* Poisson \n",
    "    * n = time slice multiplied by p = probability in a given time slice which provides u\n",
    "    * n = 10 min; p for John = 4/10 = 2/5 customers per min; u for john = 4\n",
    "    * n = 10; p for machine avg = .1(1/10)+.9(5/10) = .46 cust/min; u for machine avg = 4.6 \n",
    "    * n = 10; p for fixed machine = (5/10); u for fixed machine = 5\n",
    "    * n = 10; p for broken machine = (1/10); u for broken machine = 1\n",
    "    \n",
    "    \n",
    " \n",
    "* Exponential\n",
    "    * $\\lambda$ = rate at which customers enter, same as p for Poisson\n",
    "    * $\\lambda$ John = 2/5\n",
    "    * $\\lambda$ Broken Machine = 1/10\n",
    "    * $\\lambda$ Fixed Machine = 5/10\n",
    "    * $\\lambda$ Avg for Machine = .46\n",
    "\n"
   ]
  },
  {
   "cell_type": "markdown",
   "metadata": {},
   "source": [
    "**Part B**:  What is the probability that 6 customers pass through John's line in the next 10 minutes?  What about the self check-out, assuming that it is working?  What about the self check-out, assuming that it is frozen?"
   ]
  },
  {
   "cell_type": "markdown",
   "metadata": {
    "collapsed": true
   },
   "source": [
    "$Poiss_{John}(6,4) = \\frac{e^{-\\lambda} * \\lambda^x}{x!} = \\frac{e^{-4} * 4^6}{6!} = .104$\n",
    "\n",
    "$Poiss_{broken M}(6,1) = \\frac{e^{-1} * 1^6}{6!} = 5.109 * 10^{-4}$\n",
    "\n",
    "$Poiss_{fixed M}(6,5) = \\frac{e^{-5} * 5^6}{6!} = .146$"
   ]
  },
  {
   "cell_type": "markdown",
   "metadata": {},
   "source": [
    "**Part C:**  Use your answer to **Part B** and the Law of Total Probability to calculate the probability that the self check-out tends 6 customers is the next 10 minutes."
   ]
  },
  {
   "cell_type": "markdown",
   "metadata": {},
   "source": []
  },
  {
   "cell_type": "markdown",
   "metadata": {
    "collapsed": true
   },
   "source": [
    "$P(6 cust for machines total) = P(6 for broken)P(broken) + P(6 for fixed)P(fixed)$\n",
    "\n",
    "$P(6 cust for machines total) = 5.109*10^{-4}*.1 + .146*.9 = .1316$"
   ]
  },
  {
   "cell_type": "markdown",
   "metadata": {},
   "source": [
    "**Part D**:  S'pose John is working a 5-hour shift from 4-9 PM after school. He gets no breaks, because the year is 1870 and worker's rights is not yet a thing.  Calculate **exactly** (aside from rounding) the probability that he serves 100 or more customers during his shift.  (Assume we can safely scale our data up to a 5-hour interval.)"
   ]
  },
  {
   "cell_type": "markdown",
   "metadata": {},
   "source": [
    "To calculate this we must do 1 - CDF(99)\n",
    "\n",
    "To find the cumulative probabilty, I have created a function below to add up every the probability of any number of customer from 0 to 99.\n",
    "\n",
    "Johns rate for 5 hours is 4*6*5 = 120 customers\n",
    "\n",
    "Based off this function, CDF(99) is .0278, making the probavility he serves 100 or more customers 1-.0278 = .9721"
   ]
  },
  {
   "cell_type": "code",
   "execution_count": 143,
   "metadata": {},
   "outputs": [
    {
     "name": "stdout",
     "output_type": "stream",
     "text": [
      "CDF from 0 to 99: 0.027863739890520663\n",
      "Ans: 0.9721362601094793\n"
     ]
    }
   ],
   "source": [
    "def johnsCusts(x, lam):\n",
    "    totalProb = 0\n",
    "    myEval = 0\n",
    "    for i in range(0, x+1):\n",
    "        myEval = (math.exp(-lam)*pow(lam, i))\n",
    "        myEval = myEval/(math.factorial(i))\n",
    "        totalProb = totalProb + myEval\n",
    "    return totalProb\n",
    "        \n",
    "    \n",
    "johns100Cust = johnsCusts(99, 120)\n",
    "print(\"CDF from 0 to 99:\", johns100Cust)\n",
    "print(\"Ans:\", 1-johns100Cust)\n"
   ]
  },
  {
   "cell_type": "markdown",
   "metadata": {},
   "source": [
    "**Part E**:  Write a function `checkout_count` to simulate the number of customers served by the self check-out machine in a 5-hour shift. At the very least, your function should take as input the working and broken customer arrival rate parameters, and the probability that the machine is working properly. Your simulation should model the arrival of each new customer, and sample whether or not the machine is working properly for each new customer. Then, your function should simulate customer arrival times at the front of the line by sampling between-customer times from $Exp(\\lambda)$ via Numpy's [random.exponential](https://docs.scipy.org/doc/numpy-1.13.0/reference/generated/numpy.random.exponential.html) function, where the argument $\\lambda$ will depend on the state of the machine (working or broken). Your function should return the number of customer arrivals in a 5-hour shift. Use at least 5000 simulations.\n",
    "\n",
    "Use this function to estimate the probability of the self check-out machine serves 100 or more customers in a 5-hour shift, and report your result.\n",
    "\n",
    "Finally, use **this same function**, to verify your answer to **Part D**.\n",
    "\n",
    "**Caution!**  Be aware that in some Numpy or Scipy functions for distribution and/or random variables, the conventions for the parameter arguments may differ from those used in class."
   ]
  },
  {
   "cell_type": "code",
   "execution_count": 144,
   "metadata": {},
   "outputs": [],
   "source": [
    "def checkout_count(time_len, rate_work, rate_broken, p):\n",
    "    isWorking = np.random.choice([True, False], p=[p, 1-p])\n",
    "    # Magic\n",
    "    currentRate = rate_work if isWorking else rate_broken\n",
    "    timeAtStore = np.random.exponential(1/currentRate)\n",
    "    num_customers = 0\n",
    "    while timeAtStore <= time_len:\n",
    "        num_customers += 1\n",
    "        isWorking = np.random.choice([True, False], p=[p, 1-p])\n",
    "        currentRate = rate_work if isWorking else rate_broken\n",
    "        timeAtStore = timeAtStore + np.random.exponential(1/currentRate)\n",
    "    return num_customers\n"
   ]
  },
  {
   "cell_type": "code",
   "execution_count": 145,
   "metadata": {},
   "outputs": [
    {
     "name": "stdout",
     "output_type": "stream",
     "text": [
      "Avg number of customers served: 108.29859999999998\n",
      "Prob of over 100 customers for machine: 0.7114\n",
      "Prob of over 100 customers for John: 0.97\n"
     ]
    }
   ],
   "source": [
    "avgMachine = 0\n",
    "myEval = 0\n",
    "over100 = 0\n",
    "over100John = 0\n",
    "for x in range(0,5000):\n",
    "    johnEval = checkout_count(1, 120, 0, 1)\n",
    "    myEval = checkout_count(1, 150, 30, .9)\n",
    "    if myEval>=100:\n",
    "        over100 = over100 + 1\n",
    "    if johnEval>=100:\n",
    "        over100John = over100John + 1\n",
    "    avgMachine = avgMachine + myEval/5000\n",
    "    \n",
    "print(\"Avg number of customers served:\", avgMachine)\n",
    "print(\"Prob of over 100 customers for machine:\", over100/5000)\n",
    "print(\"Prob of over 100 customers for John:\", over100John/5000)"
   ]
  },
  {
   "cell_type": "markdown",
   "metadata": {},
   "source": [
    "**Part F:** Comment on the results you found in **Part E** for the probabilities that John and the self check-out machine will serve 100 or more customers in a 5-hour block. Which seems like a better investment for the grocery store?"
   ]
  },
  {
   "cell_type": "markdown",
   "metadata": {},
   "source": [
    "#### Answer:\n",
    "It seems very obvious that John is a better option than the machine in terms of pure efficiency. There is a small chance that John would serve less thnn 100 people in 5 hours, while the machine has a greater chance of that. The broken state of the machine outweighs the quickness of the machine when its fixed, making it overall less effective in getting people through"
   ]
  },
  {
   "cell_type": "markdown",
   "metadata": {},
   "source": [
    "<br>\n",
    "\n",
    "---\n",
    "<a/ id='p4'></a>\n",
    "[Back to top](#top)\n",
    "### [20 points] Problem 4\n",
    "***\n",
    "\n",
    "Well. They're back at it. Tony and Dan are honing their lightsaber skills, and this time they've got a _new_ tournament format. (They wouldn't have had to switch formats, but you figured out all the probabilities for their previous tournament format two weeks ago, so this is on you.)\n",
    "\n",
    "The new format is a _Best-of-9 Series_ of individual duels. The first professor to win 5 duels is declared the winner. Each duel can be considered to be independent of all previous duels. Moreover, a rigorous statistical analysis of Tony's and Dan's strengths, weaknesses, and handwriting, has revealed that Tony has an edge: the probability that Tony wins any one duel against Dan is given by $p=0.56$."
   ]
  },
  {
   "cell_type": "markdown",
   "metadata": {},
   "source": [
    "**Part A**: What is the probability that Tony wins the 9-duel series on the 8th duel? "
   ]
  },
  {
   "cell_type": "markdown",
   "metadata": {},
   "source": [
    "#### Answer:\n",
    "In order for Tony to win, he must win 4 and then the 8th duel. This is represented by:\n",
    "\n",
    "${7 \\choose 4}*P^{4}*(1-p)^{3}*p $\n",
    "\n",
    "and $ p =.56$ \n",
    "\n",
    "thus..\n",
    "\n",
    "$ = .1642$"
   ]
  },
  {
   "cell_type": "markdown",
   "metadata": {},
   "source": [
    "**Part B**: What is the probability that Tony wins the 9-duel series in _any_ valid number of duels? "
   ]
  },
  {
   "cell_type": "markdown",
   "metadata": {},
   "source": [
    "#### Answer:\n",
    "P(Tony Wins with any Num Duels) = \n",
    "\n",
    "and $ p =.56$ \n",
    "\n",
    "$\\sum_{i=5}^{9} i - {1 \\choose 4}p^{5}*(1-p)^{i-5} = .6449$"
   ]
  },
  {
   "cell_type": "markdown",
   "metadata": {},
   "source": [
    "**Part C**: The winner of the tournament will take home \\$10,000 to use for a giant home aquarium for Stella the Octopus. Because the stakes are so high, Tony has decided to hire a famous Jedi consultant, Darth Ketelsen, to help him prepare for each duel. \n",
    "\n",
    "With Ketelsen's help, Tony's probability of winning any given match increases to $p = 0.7$. Ketelsen charges a fee of \\$90 per game, but as a testament to her confidence in her abilities, only charges Tony the \\$90 for games that he wins and _only if Tony wins the whole tournament_.  So, if Tony competes in a 9-duel tournament and wins, he will take home \\$10,000 _minus_ \\$450 for Darth Ketelsen's fees, for a total payout of \\$9,550.  What is the expected payout for a 9-duel series?   "
   ]
  },
  {
   "cell_type": "markdown",
   "metadata": {},
   "source": [
    "#### Answer:\n",
    "\n",
    "To get expected, we must multiply prob of winning with actual payout\n",
    "\n",
    "(10000-450) = 9550\n",
    "\n",
    "$ E = 9550 * .6449 = 8606.4$ dollars!"
   ]
  },
  {
   "cell_type": "markdown",
   "metadata": {},
   "source": [
    "**Part D**: This year the Jedi Knight Lightsaber-on-Lightsaber Association (the JKLOL Assoc) is implementing an experimental rule: Since Tony is rumored to be the stronger duelist, he gets to _choose_ the length of the championship tournament! Specifically, he can choose the series to be any odd length, from $N=3, 5, 7 \\dots, 99$ duels long. Assuming that Tony continues to use the service of Darth Ketelsen, and considering the fact that Tony has a better-than-even chance of winning each duel, explain the trade-offs between choosing a short series vs. a long series in terms of Expected Payout. "
   ]
  },
  {
   "cell_type": "markdown",
   "metadata": {},
   "source": [
    "#### Answer:\n",
    "In my opinion, he should play as long as he can.\n",
    "\n",
    "* Short\n",
    "    * Shorter duels means that we wont need to be giving up more of his money to Darth\n",
    "    \n",
    "* Long\n",
    "    * His money would accumulate and he will leave the room with more wins\n",
    "    \n"
   ]
  },
  {
   "cell_type": "markdown",
   "metadata": {},
   "source": [
    "**Part E**: Write a function `optimal_series` that takes in $p$, the probability that Tony wins an individual duel, then computes the Expected Payout for each series of length $N=3, 5, 7, \\ldots 99$ and returns the optimal series length.  In addition to returning the optimal series length, your function should also produce a plot of Expected Payout vs Series Length. You may write any additional helper functions that you like, but you should not change the API for the function optimal_series. "
   ]
  },
  {
   "cell_type": "code",
   "execution_count": 146,
   "metadata": {},
   "outputs": [],
   "source": [
    "def optimal_series(p):\n",
    "    # something\n",
    "    optimal_series_length = 1\n",
    "    return optimal_series_length"
   ]
  },
  {
   "cell_type": "code",
   "execution_count": 147,
   "metadata": {},
   "outputs": [
    {
     "name": "stdout",
     "output_type": "stream",
     "text": [
      "Optimal length: 17\n",
      "Expected Payout: 8819.8549576614\n"
     ]
    },
    {
     "data": {
      "text/plain": [
       "17"
      ]
     },
     "execution_count": 147,
     "metadata": {},
     "output_type": "execute_result"
    },
    {
     "data": {
      "image/png": "[encoded data removed]",
      "text/plain": [
       "<Figure size 720x360 with 1 Axes>"
      ]
     },
     "metadata": {
      "needs_background": "light"
     },
     "output_type": "display_data"
    }
   ],
   "source": [
    "p = .7\n",
    "N = 9\n",
    "fee = 90\n",
    "\n",
    "def Payout(N, p, fee):\n",
    "    r = (N+1) // 2 \n",
    "    return np.sum([binom(K-1, r-1) * (p**r) * (1-p)**(K-r) * (10000-fee*r) for K in range(r,N+1)])\n",
    "\n",
    "def optimal_series(p):\n",
    "\n",
    "    lengthOfSeries = range(3, 100, 2)\n",
    "    ePayouts = np.array([Payout(N, p, fee) for N in lengthOfSeries])\n",
    "    fig, ax = plt.subplots(nrows=1, ncols=1, figsize=(10,5))\n",
    "    ax.plot(lengthOfSeries, ePayouts,color=\"pink\", marker=\"o\")\n",
    "    ax.grid(True, alpha=0.25)\n",
    "    ax.set_axisbelow(True)\n",
    "    ax.set_xlabel(\"Length of Series\")\n",
    "    ax.set_ylabel(\"Expected Payout\")\n",
    "\n",
    "    \n",
    "    optimal = np.argmax(ePayouts)\n",
    "    optimalVal = 2*optimal+3\n",
    "    ax.plot([optimalVal, optimalVal], [0,10000], color=\"orange\")\n",
    "    \n",
    "    plt.xticks([0,13,20,40,60,80,100])\n",
    "    print(\"Optimal length:\", optimalVal)\n",
    "    print(\"Expected Payout:\", ePayouts[optimal])\n",
    "    return optimalVal \n",
    "    \n",
    "optimal_series(0.70)"
   ]
  },
  {
   "cell_type": "markdown",
   "metadata": {},
   "source": [
    "<br>\n",
    "\n",
    "---\n",
    "<a/ id='p5'></a>\n",
    "[Back to top](#top)\n",
    "### [20 points] Problem 5\n",
    "\n",
    "Cement your superior stochastic simulation skills by solving some straightforward simulation scenarios."
   ]
  },
  {
   "cell_type": "markdown",
   "metadata": {},
   "source": [
    "**Part A**: Using a stochastic simulation, compute the probability that, from a shuffled standard deck of cards, two cards are sequentially chosen which have either identical value or _adjacent_ value. You may let Aces be high or low, but not both."
   ]
  },
  {
   "cell_type": "code",
   "execution_count": 148,
   "metadata": {},
   "outputs": [
    {
     "name": "stdout",
     "output_type": "stream",
     "text": [
      "Part A ans: 0.2197\n"
     ]
    }
   ],
   "source": [
    "#Aces = 1\n",
    "#Jack = 11\n",
    "#Queen = 12\n",
    "#King = 13\n",
    "cards = []\n",
    "for x in range(13):\n",
    "    cards.append(x+1)\n",
    "    cards.append(x+1)\n",
    "    cards.append(x+1)\n",
    "    cards.append(x+1)\n",
    "numTrials = 10000\n",
    "numIdenticalOrAdj = 0\n",
    "for trial in range(numTrials):\n",
    "    draw1 = np.random.choice(cards, size=1, replace=False)\n",
    "    draw2 = np.random.choice(cards, size=2, replace=False)\n",
    "    if (abs(draw1[0]-draw2[0]))<2:\n",
    "        numIdenticalOrAdj+=1\n",
    "        \n",
    "Aans = numIdenticalOrAdj/numTrials\n",
    "print(\"Part A ans:\", Aans)"
   ]
  },
  {
   "cell_type": "markdown",
   "metadata": {},
   "source": [
    "**Part B**: Using a stochastic simulation, compute the probability that, from a shuffled standard deck of cards, three cards are sequentially chosen which form a run, e.g. 4-5-6 or 9-10-J. (The cards do not need to be drawn in order, like 4,5,6... any order is fine, like 6,4,5.) You may let Aces be high or low, but not both."
   ]
  },
  {
   "cell_type": "code",
   "execution_count": 149,
   "metadata": {},
   "outputs": [
    {
     "name": "stdout",
     "output_type": "stream",
     "text": [
      "Part B ans:  0.035\n"
     ]
    }
   ],
   "source": [
    "cards = []\n",
    "for x in range(13):\n",
    "    cards.append(x+1)\n",
    "    cards.append(x+1)\n",
    "    cards.append(x+1)\n",
    "    cards.append(x+1)\n",
    "numTrials = 10000\n",
    "correct = 0\n",
    "for trial in range(numTrials):\n",
    "    draws = np.random.choice(cards, size=3, replace=False)\n",
    "    draws.sort()\n",
    "    if((draws[2]-1) == draws[1]) and ((draws[1]-1) == draws[0]):\n",
    "        correct+=1\n",
    "Bans = correct/numTrials\n",
    "print(\"Part B ans: \", Bans)"
   ]
  },
  {
   "cell_type": "markdown",
   "metadata": {},
   "source": [
    "**Part C**: When flipping over cards, sequentially, from a randomly shuffled deck, what is the probability that the third Ace will be revealed between flips 16 and 24, inclusively?"
   ]
  },
  {
   "cell_type": "code",
   "execution_count": 150,
   "metadata": {},
   "outputs": [
    {
     "name": "stdout",
     "output_type": "stream",
     "text": [
      "Part C answer: 0.1746\n"
     ]
    }
   ],
   "source": [
    "cards = []\n",
    "\n",
    "for x in range(13):\n",
    "    cards.append(x+1)\n",
    "    cards.append(x+1)\n",
    "    cards.append(x+1)\n",
    "    cards.append(x+1)\n",
    "\n",
    "numTrials = 10000\n",
    "correct = 0\n",
    "\n",
    "for trial in range(numTrials):\n",
    "    cardDraws = np.random.choice(cards, size=24, replace=False)\n",
    "    numAces = np.sum(cardDraws == 1)\n",
    "    \n",
    "    if (numAces >= 3):\n",
    "        temp = np.sum(cardDraws[15:]==1)\n",
    "        if (numAces-temp) <= 2:\n",
    "            correct+=1\n",
    "Cans = correct/numTrials\n",
    "print(\"Part C answer:\", Cans)"
   ]
  },
  {
   "cell_type": "markdown",
   "metadata": {},
   "source": [
    "**Part D**: Using a stochastic simulation, determine the probability mass function for: the probability that the first card drawn is an $X$, given that the card was part of a 3-card sequence (as in Part B). Express your PMF as a bar graph. Explain why it has the shape that it has."
   ]
  },
  {
   "cell_type": "markdown",
   "metadata": {
    "collapsed": true
   },
   "source": [
    "#### Answer:\n",
    "Lets make P(S) = sequence\n",
    "\n",
    "Using Bayes, we know that:\n",
    "\n",
    "$ P(X|S) = \\frac{P(S|X)P(S)}{P(X)}$\n",
    "\n",
    "$P(S) = .032$\n",
    "\n",
    "$P(X) = \\frac{1}{13}$\n",
    "\n",
    "thus.. \n",
    "\n",
    "$ P(X|S) = \\frac{P(S|X)*.032}{\\frac{1}{13}} $\n",
    "\n",
    "We need to determine P(S|X)\n",
    "\n",
    "The graph below looks the way it does because The cards 3 away from the max and min are less likely to be a part of a 3 card sequence. This makes sense because Ace and King can be part of a sequence only in 1 way each. Ex. A,2,3 and J,Q,K. For the numbers in between, they all have 3 ways to be a part of a sequence making the graph have a plateu of sorts for the middle cards."
   ]
  },
  {
   "cell_type": "code",
   "execution_count": 151,
   "metadata": {},
   "outputs": [],
   "source": [
    "# DATA FOR GRAPH\n",
    "\n",
    "hitNum = np.zeros(13)\n",
    "trialNum = 100000\n",
    "for x in range(13):\n",
    "    cards = (list(np.arange(13))*4)\n",
    "    cards.pop(x)\n",
    "    for i in range(trialNum):\n",
    "        draws = np.random.choice(cards,size=2,replace=False)\n",
    "        draws = list(draws)+[x]\n",
    "        draws.sort()\n",
    "        if ((draws[1]+1)==draws[2]) and ((draws[0]+1)==draws[1]):\n",
    "            hitNum[x] = hitNum[x] + 1\n",
    "\n",
    "pSX = hitNum/trialNum\n",
    "probX = 1/13\n",
    "probS = Bans\n",
    "pXS = pSX*probX/probS"
   ]
  },
  {
   "cell_type": "code",
   "execution_count": 152,
   "metadata": {},
   "outputs": [
    {
     "data": {
      "text/plain": [
       "Text(0.5, 0, 'is the first card')"
      ]
     },
     "execution_count": 152,
     "metadata": {},
     "output_type": "execute_result"
    },
    {
     "data": {
      "image/png": "[encoded data removed]",
      "text/plain": [
       "<Figure size 720x504 with 1 Axes>"
      ]
     },
     "metadata": {
      "needs_background": "light"
     },
     "output_type": "display_data"
    }
   ],
   "source": [
    "#GRAPH\n",
    "\n",
    "cardLab = ['Ace','2','3','4','5','6','7','8','9','10','Jack','Queen','King']\n",
    "fig, myGraph = plt.subplots(1,1,figsize=(10,7))\n",
    "\n",
    "myGraph.bar(np.arange(13),pXS)\n",
    "\n",
    "myGraph.set_xticks(range(13))\n",
    "myGraph.set_xticklabels(cardLab)\n",
    "myGraph.set_ylabel('Probability of getting sequence')\n",
    "myGraph.set_xlabel('is the first card')"
   ]
  },
  {
   "cell_type": "code",
   "execution_count": null,
   "metadata": {},
   "outputs": [],
   "source": []
  }
 ],
 "metadata": {
  "kernelspec": {
   "display_name": "Python 3",
   "language": "python",
   "name": "python3"
  },
  "language_info": {
   "codemirror_mode": {
    "name": "ipython",
    "version": 3
   },
   "file_extension": ".py",
   "mimetype": "text/x-python",
   "name": "python",
   "nbconvert_exporter": "python",
   "pygments_lexer": "ipython3",
   "version": "3.7.1"
  }
 },
 "nbformat": 4,
 "nbformat_minor": 2
}
